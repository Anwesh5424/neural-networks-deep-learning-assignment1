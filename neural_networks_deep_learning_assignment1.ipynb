{
  "nbformat": 4,
  "nbformat_minor": 0,
  "metadata": {
    "colab": {
      "provenance": []
    },
    "kernelspec": {
      "name": "python3",
      "display_name": "Python 3"
    },
    "language_info": {
      "name": "python"
    }
  },
  "cells": [
    {
      "cell_type": "markdown",
      "source": [
        "**1. Character Deletion & Reversing resultant string and Arithmetic operations**"
      ],
      "metadata": {
        "id": "QE4aTY6JL-cf"
      }
    },
    {
      "cell_type": "code",
      "execution_count": 23,
      "metadata": {
        "colab": {
          "base_uri": "https://localhost:8080/"
        },
        "id": "AiwgUjJmL3Bm",
        "outputId": "1f985572-17dc-4c21-ed41-7f16481f65b3"
      },
      "outputs": [
        {
          "output_type": "stream",
          "name": "stdout",
          "text": [
            "Enter the input string : python\n",
            "Resultant String:  htyp\n"
          ]
        }
      ],
      "source": [
        "s = str(input(\"Enter the input string : \"))\n",
        "s = s[0:-2][::-1]\n",
        "print(\"Resultant String: \",s)"
      ]
    },
    {
      "cell_type": "code",
      "source": [
        "a=int(input(\"Enter number 1= \"))\n",
        "b=int(input(\"Enter number 2= \"))\n",
        "print(\"Addition= \",(a+b))\n",
        "print(\"Substraction= \",(a-b))\n",
        "print(\"Multiplication= \",(a*b))\n",
        "print(\"Division= \",(a/b))"
      ],
      "metadata": {
        "colab": {
          "base_uri": "https://localhost:8080/"
        },
        "id": "uoJJzFO-MRYy",
        "outputId": "21802b26-0359-4b73-9e66-3ed3e570dbef"
      },
      "execution_count": 24,
      "outputs": [
        {
          "output_type": "stream",
          "name": "stdout",
          "text": [
            "Enter number 1= 12\n",
            "Enter number 2= 14\n",
            "Addition=  26\n",
            "Substraction=  -2\n",
            "Multiplication=  168\n",
            "Division=  0.8571428571428571\n"
          ]
        }
      ]
    },
    {
      "cell_type": "markdown",
      "source": [
        "**2. Replace each occurence of word in sentence**"
      ],
      "metadata": {
        "id": "r2Fxx1wIMd4M"
      }
    },
    {
      "cell_type": "code",
      "source": [
        "str1 = input(\"Enter a string: \")\n",
        "print(\"Replaced String : \",str1.replace('python' , 'pythons'))"
      ],
      "metadata": {
        "colab": {
          "base_uri": "https://localhost:8080/"
        },
        "id": "oJw-1ojoMh5r",
        "outputId": "842b0e0e-93f5-414d-ed0b-74448f4b24bf"
      },
      "execution_count": 25,
      "outputs": [
        {
          "output_type": "stream",
          "name": "stdout",
          "text": [
            "Enter a string: I love playing with python\n",
            "Replaced String :  I love playing with pythons\n"
          ]
        }
      ]
    },
    {
      "cell_type": "markdown",
      "source": [
        "**3. Grade based on score**"
      ],
      "metadata": {
        "id": "eVt-g3XvMsA_"
      }
    },
    {
      "cell_type": "code",
      "source": [
        "score = int(input(\"Enter Class Score : \"))\n",
        "if(score >= 85 and score <= 100):\n",
        "  print(\"Grade A\")\n",
        "elif(score >= 75 and score <= 84):\n",
        "  print(\"Grade B\")\n",
        "elif(score >= 65 and score <= 74):\n",
        "  print(\"Grade C\")\n",
        "elif(score >= 55 and score <= 64):\n",
        "  print(\"Grade D\")\n",
        "elif(score < 54):\n",
        "  print(\"Grade F\")\n",
        "else:\n",
        "  print(\"Invalid Input\")"
      ],
      "metadata": {
        "colab": {
          "base_uri": "https://localhost:8080/"
        },
        "id": "vA4JquyAMvAf",
        "outputId": "5ec40857-5351-4436-a467-b4324ead7d74"
      },
      "execution_count": 30,
      "outputs": [
        {
          "output_type": "stream",
          "name": "stdout",
          "text": [
            "Enter Class Score : 86\n",
            "Grade A\n"
          ]
        }
      ]
    }
  ]
}