{
  "nbformat": 4,
  "nbformat_minor": 0,
  "metadata": {
    "colab": {
      "provenance": []
    },
    "kernelspec": {
      "name": "python3",
      "display_name": "Python 3"
    },
    "language_info": {
      "name": "python"
    }
  },
  "cells": [
    {
      "cell_type": "markdown",
      "source": [
        "**1. Character Deletion & Reversing resultant string and Arithmetic operations**"
      ],
      "metadata": {
        "id": "QE4aTY6JL-cf"
      }
    },
    {
      "cell_type": "code",
      "execution_count": 6,
      "metadata": {
        "colab": {
          "base_uri": "https://localhost:8080/"
        },
        "id": "AiwgUjJmL3Bm",
        "outputId": "85e09ad5-ffe1-409e-8699-99220e744772"
      },
      "outputs": [
        {
          "output_type": "stream",
          "name": "stdout",
          "text": [
            "Enter name= python\n",
            "Output= htyp\n"
          ]
        }
      ],
      "source": [
        "name=input(\"Enter name= \")\n",
        "name=name[:-2]\n",
        "def rever(str):\n",
        "  return str[::-1]\n",
        "print(\"Output=\",rever(name))"
      ]
    },
    {
      "cell_type": "code",
      "source": [
        "a=int(input(\"Enter number 1= \"))\n",
        "b=int(input(\"Enter number 2= \"))\n",
        "print(\"Addition= \",(a+b))\n",
        "print(\"Substraction= \",(a-b))\n",
        "print(\"Multiplication= \",(a*b))\n",
        "print(\"Division= \",(a/b))"
      ],
      "metadata": {
        "colab": {
          "base_uri": "https://localhost:8080/"
        },
        "id": "uoJJzFO-MRYy",
        "outputId": "70a2f9d9-87ef-40b9-fd9b-1da1c543a10d"
      },
      "execution_count": 2,
      "outputs": [
        {
          "output_type": "stream",
          "name": "stdout",
          "text": [
            "Enter number 1= 12\n",
            "Enter number 2= 14\n",
            "Addition=  26\n",
            "Substraction=  -2\n",
            "Multiplication=  168\n",
            "Division=  0.8571428571428571\n"
          ]
        }
      ]
    },
    {
      "cell_type": "markdown",
      "source": [
        "**2. Replace each occurence of word in sentence**"
      ],
      "metadata": {
        "id": "r2Fxx1wIMd4M"
      }
    },
    {
      "cell_type": "code",
      "source": [
        "sent=input(\"Enter sentence: \")\n",
        "sent2=sent.replace(\"python\",\"pythons\")\n",
        "print(\"New sentence is: \",sent2)"
      ],
      "metadata": {
        "colab": {
          "base_uri": "https://localhost:8080/"
        },
        "id": "oJw-1ojoMh5r",
        "outputId": "eb55abd2-766f-4c1f-f81b-b5afbb2c1bb6"
      },
      "execution_count": 4,
      "outputs": [
        {
          "output_type": "stream",
          "name": "stdout",
          "text": [
            "Enter sentence: I love python programming and python applications\n",
            "New sentence is:  I love pythons programming and pythons applications\n"
          ]
        }
      ]
    },
    {
      "cell_type": "markdown",
      "source": [
        "**3. Grade based on score**"
      ],
      "metadata": {
        "id": "eVt-g3XvMsA_"
      }
    },
    {
      "cell_type": "code",
      "source": [
        "def grade(score):\n",
        "  if(score>=75 and score<=100):\n",
        "    return 'A'\n",
        "  elif(score>=60 and score<75):\n",
        "    return 'B'\n",
        "  elif(score>=35 and score<60):\n",
        "    return 'C'\n",
        "  elif(score>=30 and score<=0):\n",
        "    return 'D'\n",
        "  elif(score<30):\n",
        "    return 'F'\n",
        "  else:\n",
        "    return 'Invalid'\n",
        "s=int(input(\"Enter the score= \"))\n",
        "print(\"Grade=\",grade(s))"
      ],
      "metadata": {
        "colab": {
          "base_uri": "https://localhost:8080/"
        },
        "id": "vA4JquyAMvAf",
        "outputId": "1ca1a85f-ef3a-4f7c-cccb-af1858d78daa"
      },
      "execution_count": 5,
      "outputs": [
        {
          "output_type": "stream",
          "name": "stdout",
          "text": [
            "Enter the score= 91\n",
            "Grade= A\n"
          ]
        }
      ]
    }
  ]
}